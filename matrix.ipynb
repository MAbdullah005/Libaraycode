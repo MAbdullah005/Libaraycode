{
  "nbformat": 4,
  "nbformat_minor": 0,
  "metadata": {
    "colab": {
      "provenance": [],
      "authorship_tag": "ABX9TyO6zOoJ4M8XMa9kfXLsSZR1",
      "include_colab_link": true
    },
    "kernelspec": {
      "name": "python3",
      "display_name": "Python 3"
    },
    "language_info": {
      "name": "python"
    }
  },
  "cells": [
    {
      "cell_type": "markdown",
      "metadata": {
        "id": "view-in-github",
        "colab_type": "text"
      },
      "source": [
        "<a href=\"https://colab.research.google.com/github/MAbdullah005/Libaraycode/blob/main/matrix.ipynb\" target=\"_parent\"><img src=\"https://colab.research.google.com/assets/colab-badge.svg\" alt=\"Open In Colab\"/></a>"
      ]
    },
    {
      "cell_type": "code",
      "execution_count": 14,
      "metadata": {
        "colab": {
          "base_uri": "https://localhost:8080/"
        },
        "id": "fNXW7PUcs3hL",
        "outputId": "4b7eee6b-33b6-43da-a0b4-f2a6bd3fe8cb"
      },
      "outputs": [
        {
          "output_type": "execute_result",
          "data": {
            "text/plain": [
              "array([11, 17, 23])"
            ]
          },
          "metadata": {},
          "execution_count": 14
        }
      ],
      "source": [
        "import numpy as np\n",
        "import torch as p\n",
        "import tensorflow as tf\n",
        "a=np.array([[3,4],[5,6],[7,8]])\n",
        "b=np.array([1,2])\n",
        "\n",
        "np.dot(a,b)"
      ]
    },
    {
      "cell_type": "code",
      "source": [],
      "metadata": {
        "colab": {
          "base_uri": "https://localhost:8080/"
        },
        "id": "coBn8b6LzcVF",
        "outputId": "460cbdc4-128f-4176-a61a-dc569dd22d7f"
      },
      "execution_count": 2,
      "outputs": [
        {
          "output_type": "execute_result",
          "data": {
            "text/plain": [
              "array([[25,  5,  3],\n",
              "       [ 2, 26,  7]])"
            ]
          },
          "metadata": {},
          "execution_count": 2
        }
      ]
    },
    {
      "cell_type": "code",
      "source": [
        "x=p.tensor([[3,4],[5,6],[7,8]])\n",
        "a=p.tensor([1,2])\n",
        "p.matmul(x,a)"
      ],
      "metadata": {
        "colab": {
          "base_uri": "https://localhost:8080/"
        },
        "id": "Aiq389WWzjDi",
        "outputId": "f9efaddd-4e68-4afa-aa7c-3ee6478b1789"
      },
      "execution_count": 17,
      "outputs": [
        {
          "output_type": "execute_result",
          "data": {
            "text/plain": [
              "tensor([11, 17, 23])"
            ]
          },
          "metadata": {},
          "execution_count": 17
        }
      ]
    },
    {
      "cell_type": "code",
      "source": [
        "x*2+2"
      ],
      "metadata": {
        "colab": {
          "base_uri": "https://localhost:8080/"
        },
        "id": "ODh5pnX1zv6o",
        "outputId": "9e56a36d-9591-44a6-c7e2-14416d1d4e45"
      },
      "execution_count": 11,
      "outputs": [
        {
          "output_type": "execute_result",
          "data": {
            "text/plain": [
              "<tf.Tensor: shape=(3, 2), dtype=int32, numpy=\n",
              "array([[52,  6],\n",
              "       [12, 54],\n",
              "       [ 8, 16]], dtype=int32)>"
            ]
          },
          "metadata": {},
          "execution_count": 11
        }
      ]
    },
    {
      "cell_type": "code",
      "source": [
        "x=tf.Variable([[3,4],[5,6],[7,8]])\n",
        "a=tf.Variable([1,2])\n",
        "tf.linalg.matvec(x,a)"
      ],
      "metadata": {
        "colab": {
          "base_uri": "https://localhost:8080/"
        },
        "id": "1bDKnf6jzyXE",
        "outputId": "c9b9f993-928f-40c7-b7e7-b0766d7d91cc"
      },
      "execution_count": 18,
      "outputs": [
        {
          "output_type": "execute_result",
          "data": {
            "text/plain": [
              "<tf.Tensor: shape=(3,), dtype=int32, numpy=array([11, 17, 23], dtype=int32)>"
            ]
          },
          "metadata": {},
          "execution_count": 18
        }
      ]
    },
    {
      "cell_type": "markdown",
      "source": [
        "### Reduction\n",
        "\n",
        "calculating the sum across all the element of tensor is a common operation For exemple :\n",
        "For a matrix **x**"
      ],
      "metadata": {
        "id": "VG7N-951mfzm"
      }
    },
    {
      "cell_type": "code",
      "source": [],
      "metadata": {
        "id": "UggD718jpPfV"
      },
      "execution_count": null,
      "outputs": []
    }
  ]
}